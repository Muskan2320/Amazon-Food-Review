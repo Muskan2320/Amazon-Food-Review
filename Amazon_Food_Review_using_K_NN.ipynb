{
  "cells": [
    {
      "cell_type": "markdown",
      "source": [
        "# Amazon Food Review\n",
        "\n",
        "The objective of this notebook is to identify whether the review given by the customer is positive or negative. K-Nearest Neighbor along with Natural Language processing is used to identify the text.\n",
        "\n",
        "Attribute Information:\n",
        "\n",
        "1. Id\n",
        "2. ProductId - unique identifier for the product\n",
        "3. UserId - unqiue identifier for the user\n",
        "4. ProfileName\n",
        "5. HelpfulnessNumerator - number of users who found the review helpful\n",
        "6. HelpfulnessDenominator - number of users who indicated whether they found the review helpful or not\n",
        "7. Score - rating between 1 and 5\n",
        "8. Time - timestamp for the review\n",
        "9. Summary - brief summary of the review\n",
        "10. Text - text of the review\n",
        "\n",
        "Data Source: https://www.kaggle.com/snap/amazon-fine-food-reviews"
      ],
      "metadata": {
        "id": "Y8jB72_cc2qC"
      }
    },
    {
      "cell_type": "code",
      "execution_count": null,
      "metadata": {
        "id": "ZjlWO5VIfb7p"
      },
      "outputs": [],
      "source": [
        "# The 'Pandas' package is a fast, flexible tool used to analyze data. It helps in reading and updating the files like csv files, excel, etc.\n",
        "import pandas as pd\n",
        "\n",
        "# NumPy is used to deal with matrix\n",
        "import numpy as np"
      ]
    },
    {
      "cell_type": "code",
      "execution_count": null,
      "metadata": {
        "id": "ruJOJnmk23g9"
      },
      "outputs": [],
      "source": [
        "# Reading the csv file, when reading a large dataset there are some bad lines which are using on_bad_lines = 'skip' skipped\n",
        "# If on_bad_lines = 'warn' then a warning is given for the bad line\n",
        "\n",
        "data = pd.read_csv('Reviews.csv', engine='python', on_bad_lines='skip')"
      ]
    },
    {
      "cell_type": "code",
      "execution_count": null,
      "metadata": {
        "colab": {
          "base_uri": "https://localhost:8080/"
        },
        "id": "VDahKAEjZv5Z",
        "outputId": "027af477-cca2-4fd5-fc3e-2a57d7855f74"
      },
      "outputs": [
        {
          "output_type": "execute_result",
          "data": {
            "text/plain": [
              "(302959, 10)"
            ]
          },
          "metadata": {},
          "execution_count": 125
        }
      ],
      "source": [
        "data.shape                                                                      # Returns the shape of data"
      ]
    },
    {
      "cell_type": "code",
      "execution_count": null,
      "metadata": {
        "colab": {
          "base_uri": "https://localhost:8080/",
          "height": 354
        },
        "id": "WzKqi53SZ6jM",
        "outputId": "82288355-dc0c-4224-bc24-25558a591ec6"
      },
      "outputs": [
        {
          "output_type": "stream",
          "name": "stdout",
          "text": [
            "(302959, 10)\n"
          ]
        },
        {
          "output_type": "execute_result",
          "data": {
            "text/plain": [
              "   Id   ProductId          UserId                      ProfileName  \\\n",
              "0   1  B001E4KFG0  A3SGXH7AUHU8GW                       delmartian   \n",
              "1   2  B00813GRG4  A1D87F6ZCVE5NK                           dll pa   \n",
              "2   3  B000LQOCH0   ABXLMWJIXXAIN  Natalia Corres \"Natalia Corres\"   \n",
              "3   4  B000UA0QIQ  A395BORC6FGVXV                             Karl   \n",
              "4   5  B006K2ZZ7K  A1UQRSCLF8GW1T    Michael D. Bigham \"M. Wassir\"   \n",
              "\n",
              "   HelpfulnessNumerator  HelpfulnessDenominator  Score        Time  \\\n",
              "0                     1                       1      1  1303862400   \n",
              "1                     0                       0      0  1346976000   \n",
              "2                     1                       1      1  1219017600   \n",
              "3                     3                       3      0  1307923200   \n",
              "4                     0                       0      1  1350777600   \n",
              "\n",
              "                 Summary                                               Text  \n",
              "0  Good Quality Dog Food  I have bought several of the Vitality canned d...  \n",
              "1      Not as Advertised  Product arrived labeled as Jumbo Salted Peanut...  \n",
              "2  \"Delight\" says it all  This is a confection that has been around a fe...  \n",
              "3         Cough Medicine  If you are looking for the secret ingredient i...  \n",
              "4            Great taffy  Great taffy at a great price.  There was a wid...  "
            ],
            "text/html": [
              "\n",
              "\n",
              "  <div id=\"df-b982519b-2439-4385-8d75-8ce1fd25a727\">\n",
              "    <div class=\"colab-df-container\">\n",
              "      <div>\n",
              "<style scoped>\n",
              "    .dataframe tbody tr th:only-of-type {\n",
              "        vertical-align: middle;\n",
              "    }\n",
              "\n",
              "    .dataframe tbody tr th {\n",
              "        vertical-align: top;\n",
              "    }\n",
              "\n",
              "    .dataframe thead th {\n",
              "        text-align: right;\n",
              "    }\n",
              "</style>\n",
              "<table border=\"1\" class=\"dataframe\">\n",
              "  <thead>\n",
              "    <tr style=\"text-align: right;\">\n",
              "      <th></th>\n",
              "      <th>Id</th>\n",
              "      <th>ProductId</th>\n",
              "      <th>UserId</th>\n",
              "      <th>ProfileName</th>\n",
              "      <th>HelpfulnessNumerator</th>\n",
              "      <th>HelpfulnessDenominator</th>\n",
              "      <th>Score</th>\n",
              "      <th>Time</th>\n",
              "      <th>Summary</th>\n",
              "      <th>Text</th>\n",
              "    </tr>\n",
              "  </thead>\n",
              "  <tbody>\n",
              "    <tr>\n",
              "      <th>0</th>\n",
              "      <td>1</td>\n",
              "      <td>B001E4KFG0</td>\n",
              "      <td>A3SGXH7AUHU8GW</td>\n",
              "      <td>delmartian</td>\n",
              "      <td>1</td>\n",
              "      <td>1</td>\n",
              "      <td>1</td>\n",
              "      <td>1303862400</td>\n",
              "      <td>Good Quality Dog Food</td>\n",
              "      <td>I have bought several of the Vitality canned d...</td>\n",
              "    </tr>\n",
              "    <tr>\n",
              "      <th>1</th>\n",
              "      <td>2</td>\n",
              "      <td>B00813GRG4</td>\n",
              "      <td>A1D87F6ZCVE5NK</td>\n",
              "      <td>dll pa</td>\n",
              "      <td>0</td>\n",
              "      <td>0</td>\n",
              "      <td>0</td>\n",
              "      <td>1346976000</td>\n",
              "      <td>Not as Advertised</td>\n",
              "      <td>Product arrived labeled as Jumbo Salted Peanut...</td>\n",
              "    </tr>\n",
              "    <tr>\n",
              "      <th>2</th>\n",
              "      <td>3</td>\n",
              "      <td>B000LQOCH0</td>\n",
              "      <td>ABXLMWJIXXAIN</td>\n",
              "      <td>Natalia Corres \"Natalia Corres\"</td>\n",
              "      <td>1</td>\n",
              "      <td>1</td>\n",
              "      <td>1</td>\n",
              "      <td>1219017600</td>\n",
              "      <td>\"Delight\" says it all</td>\n",
              "      <td>This is a confection that has been around a fe...</td>\n",
              "    </tr>\n",
              "    <tr>\n",
              "      <th>3</th>\n",
              "      <td>4</td>\n",
              "      <td>B000UA0QIQ</td>\n",
              "      <td>A395BORC6FGVXV</td>\n",
              "      <td>Karl</td>\n",
              "      <td>3</td>\n",
              "      <td>3</td>\n",
              "      <td>0</td>\n",
              "      <td>1307923200</td>\n",
              "      <td>Cough Medicine</td>\n",
              "      <td>If you are looking for the secret ingredient i...</td>\n",
              "    </tr>\n",
              "    <tr>\n",
              "      <th>4</th>\n",
              "      <td>5</td>\n",
              "      <td>B006K2ZZ7K</td>\n",
              "      <td>A1UQRSCLF8GW1T</td>\n",
              "      <td>Michael D. Bigham \"M. Wassir\"</td>\n",
              "      <td>0</td>\n",
              "      <td>0</td>\n",
              "      <td>1</td>\n",
              "      <td>1350777600</td>\n",
              "      <td>Great taffy</td>\n",
              "      <td>Great taffy at a great price.  There was a wid...</td>\n",
              "    </tr>\n",
              "  </tbody>\n",
              "</table>\n",
              "</div>\n",
              "      <button class=\"colab-df-convert\" onclick=\"convertToInteractive('df-b982519b-2439-4385-8d75-8ce1fd25a727')\"\n",
              "              title=\"Convert this dataframe to an interactive table.\"\n",
              "              style=\"display:none;\">\n",
              "\n",
              "  <svg xmlns=\"http://www.w3.org/2000/svg\" height=\"24px\"viewBox=\"0 0 24 24\"\n",
              "       width=\"24px\">\n",
              "    <path d=\"M0 0h24v24H0V0z\" fill=\"none\"/>\n",
              "    <path d=\"M18.56 5.44l.94 2.06.94-2.06 2.06-.94-2.06-.94-.94-2.06-.94 2.06-2.06.94zm-11 1L8.5 8.5l.94-2.06 2.06-.94-2.06-.94L8.5 2.5l-.94 2.06-2.06.94zm10 10l.94 2.06.94-2.06 2.06-.94-2.06-.94-.94-2.06-.94 2.06-2.06.94z\"/><path d=\"M17.41 7.96l-1.37-1.37c-.4-.4-.92-.59-1.43-.59-.52 0-1.04.2-1.43.59L10.3 9.45l-7.72 7.72c-.78.78-.78 2.05 0 2.83L4 21.41c.39.39.9.59 1.41.59.51 0 1.02-.2 1.41-.59l7.78-7.78 2.81-2.81c.8-.78.8-2.07 0-2.86zM5.41 20L4 18.59l7.72-7.72 1.47 1.35L5.41 20z\"/>\n",
              "  </svg>\n",
              "      </button>\n",
              "\n",
              "\n",
              "\n",
              "    <div id=\"df-a38d113b-2a3a-4023-9b3e-985116060e03\">\n",
              "      <button class=\"colab-df-quickchart\" onclick=\"quickchart('df-a38d113b-2a3a-4023-9b3e-985116060e03')\"\n",
              "              title=\"Suggest charts.\"\n",
              "              style=\"display:none;\">\n",
              "\n",
              "<svg xmlns=\"http://www.w3.org/2000/svg\" height=\"24px\"viewBox=\"0 0 24 24\"\n",
              "     width=\"24px\">\n",
              "    <g>\n",
              "        <path d=\"M19 3H5c-1.1 0-2 .9-2 2v14c0 1.1.9 2 2 2h14c1.1 0 2-.9 2-2V5c0-1.1-.9-2-2-2zM9 17H7v-7h2v7zm4 0h-2V7h2v10zm4 0h-2v-4h2v4z\"/>\n",
              "    </g>\n",
              "</svg>\n",
              "      </button>\n",
              "    </div>\n",
              "\n",
              "<style>\n",
              "  .colab-df-quickchart {\n",
              "    background-color: #E8F0FE;\n",
              "    border: none;\n",
              "    border-radius: 50%;\n",
              "    cursor: pointer;\n",
              "    display: none;\n",
              "    fill: #1967D2;\n",
              "    height: 32px;\n",
              "    padding: 0 0 0 0;\n",
              "    width: 32px;\n",
              "  }\n",
              "\n",
              "  .colab-df-quickchart:hover {\n",
              "    background-color: #E2EBFA;\n",
              "    box-shadow: 0px 1px 2px rgba(60, 64, 67, 0.3), 0px 1px 3px 1px rgba(60, 64, 67, 0.15);\n",
              "    fill: #174EA6;\n",
              "  }\n",
              "\n",
              "  [theme=dark] .colab-df-quickchart {\n",
              "    background-color: #3B4455;\n",
              "    fill: #D2E3FC;\n",
              "  }\n",
              "\n",
              "  [theme=dark] .colab-df-quickchart:hover {\n",
              "    background-color: #434B5C;\n",
              "    box-shadow: 0px 1px 3px 1px rgba(0, 0, 0, 0.15);\n",
              "    filter: drop-shadow(0px 1px 2px rgba(0, 0, 0, 0.3));\n",
              "    fill: #FFFFFF;\n",
              "  }\n",
              "</style>\n",
              "\n",
              "    <script>\n",
              "      async function quickchart(key) {\n",
              "        const containerElement = document.querySelector('#' + key);\n",
              "        const charts = await google.colab.kernel.invokeFunction(\n",
              "            'suggestCharts', [key], {});\n",
              "      }\n",
              "    </script>\n",
              "\n",
              "      <script>\n",
              "\n",
              "function displayQuickchartButton(domScope) {\n",
              "  let quickchartButtonEl =\n",
              "    domScope.querySelector('#df-a38d113b-2a3a-4023-9b3e-985116060e03 button.colab-df-quickchart');\n",
              "  quickchartButtonEl.style.display =\n",
              "    google.colab.kernel.accessAllowed ? 'block' : 'none';\n",
              "}\n",
              "\n",
              "        displayQuickchartButton(document);\n",
              "      </script>\n",
              "      <style>\n",
              "    .colab-df-container {\n",
              "      display:flex;\n",
              "      flex-wrap:wrap;\n",
              "      gap: 12px;\n",
              "    }\n",
              "\n",
              "    .colab-df-convert {\n",
              "      background-color: #E8F0FE;\n",
              "      border: none;\n",
              "      border-radius: 50%;\n",
              "      cursor: pointer;\n",
              "      display: none;\n",
              "      fill: #1967D2;\n",
              "      height: 32px;\n",
              "      padding: 0 0 0 0;\n",
              "      width: 32px;\n",
              "    }\n",
              "\n",
              "    .colab-df-convert:hover {\n",
              "      background-color: #E2EBFA;\n",
              "      box-shadow: 0px 1px 2px rgba(60, 64, 67, 0.3), 0px 1px 3px 1px rgba(60, 64, 67, 0.15);\n",
              "      fill: #174EA6;\n",
              "    }\n",
              "\n",
              "    [theme=dark] .colab-df-convert {\n",
              "      background-color: #3B4455;\n",
              "      fill: #D2E3FC;\n",
              "    }\n",
              "\n",
              "    [theme=dark] .colab-df-convert:hover {\n",
              "      background-color: #434B5C;\n",
              "      box-shadow: 0px 1px 3px 1px rgba(0, 0, 0, 0.15);\n",
              "      filter: drop-shadow(0px 1px 2px rgba(0, 0, 0, 0.3));\n",
              "      fill: #FFFFFF;\n",
              "    }\n",
              "  </style>\n",
              "\n",
              "      <script>\n",
              "        const buttonEl =\n",
              "          document.querySelector('#df-b982519b-2439-4385-8d75-8ce1fd25a727 button.colab-df-convert');\n",
              "        buttonEl.style.display =\n",
              "          google.colab.kernel.accessAllowed ? 'block' : 'none';\n",
              "\n",
              "        async function convertToInteractive(key) {\n",
              "          const element = document.querySelector('#df-b982519b-2439-4385-8d75-8ce1fd25a727');\n",
              "          const dataTable =\n",
              "            await google.colab.kernel.invokeFunction('convertToInteractive',\n",
              "                                                     [key], {});\n",
              "          if (!dataTable) return;\n",
              "\n",
              "          const docLinkHtml = 'Like what you see? Visit the ' +\n",
              "            '<a target=\"_blank\" href=https://colab.research.google.com/notebooks/data_table.ipynb>data table notebook</a>'\n",
              "            + ' to learn more about interactive tables.';\n",
              "          element.innerHTML = '';\n",
              "          dataTable['output_type'] = 'display_data';\n",
              "          await google.colab.output.renderOutput(dataTable, element);\n",
              "          const docLink = document.createElement('div');\n",
              "          docLink.innerHTML = docLinkHtml;\n",
              "          element.appendChild(docLink);\n",
              "        }\n",
              "      </script>\n",
              "    </div>\n",
              "  </div>\n"
            ]
          },
          "metadata": {},
          "execution_count": 126
        }
      ],
      "source": [
        "def convert(x):\n",
        "  if x<3:\n",
        "    return 0                                                                    # 0 for negative review\n",
        "\n",
        "  return 1                                                                      # 1 for positive review\n",
        "\n",
        "actualscore = data['Score']\n",
        "posneg = actualscore.map(convert)                                               # map() function executes a specified function for each item in an iterable and returns the results\n",
        "data['Score'] = posneg\n",
        "print(data.shape)\n",
        "data.head()"
      ]
    },
    {
      "cell_type": "markdown",
      "metadata": {
        "id": "pRDQ_-nTidwy"
      },
      "source": [
        "# Data cleaning"
      ]
    },
    {
      "cell_type": "code",
      "execution_count": null,
      "metadata": {
        "colab": {
          "base_uri": "https://localhost:8080/"
        },
        "id": "Cbk8N-_HTl9X",
        "outputId": "150e5f17-e333-43b5-9165-924c7c0ca111"
      },
      "outputs": [
        {
          "output_type": "execute_result",
          "data": {
            "text/plain": [
              "(234491, 10)"
            ]
          },
          "metadata": {},
          "execution_count": 129
        }
      ],
      "source": [
        "sort_data = data.sort_values('ProductId', axis=0, kind='quicksort', na_position='last')                           # by default sorted in ascending order NaN position first or last\n",
        "final = sort_data.drop_duplicates(subset={'UserId','ProfileName','Time','Text'}, keep='first', inplace=False)     # by default false inplace says whether to modify dataset despite of creating new one\n",
        "final.shape"
      ]
    },
    {
      "cell_type": "code",
      "execution_count": null,
      "metadata": {
        "colab": {
          "base_uri": "https://localhost:8080/"
        },
        "id": "vIIWeE7weWDf",
        "outputId": "7045faae-4f4a-4ef0-ec73-6e6dd26bb931"
      },
      "outputs": [
        {
          "output_type": "execute_result",
          "data": {
            "text/plain": [
              "77.40024227700778"
            ]
          },
          "metadata": {},
          "execution_count": 130
        }
      ],
      "source": [
        "(final['Id'].size*1.0)/(data['Id'].size*1.0)*100                                # Percentage of data left after pre-processing"
      ]
    },
    {
      "cell_type": "code",
      "execution_count": null,
      "metadata": {
        "id": "NdQ1t6pEewPa"
      },
      "outputs": [],
      "source": [
        "final = final[final.HelpfulnessNumerator<=final.HelpfulnessDenominator]         # Practically HelpfulnessDenominator can't be less than HelpfulnessNumerator"
      ]
    },
    {
      "cell_type": "code",
      "execution_count": null,
      "metadata": {
        "colab": {
          "base_uri": "https://localhost:8080/"
        },
        "id": "3-rnJpKDfNoC",
        "outputId": "c1f53e88-2e79-4e13-fd52-c1fac445b21c"
      },
      "outputs": [
        {
          "output_type": "stream",
          "name": "stdout",
          "text": [
            "(234489, 10)\n"
          ]
        },
        {
          "output_type": "execute_result",
          "data": {
            "text/plain": [
              "1    200273\n",
              "0     34216\n",
              "Name: Score, dtype: int64"
            ]
          },
          "metadata": {},
          "execution_count": 132
        }
      ],
      "source": [
        "print(final.shape)\n",
        "\n",
        "final['Score'].value_counts()                                                   # Count of each positive and negative review"
      ]
    },
    {
      "cell_type": "markdown",
      "metadata": {
        "id": "Uxvubf4Iifk2"
      },
      "source": [
        "# Text Pre-processing"
      ]
    },
    {
      "cell_type": "code",
      "execution_count": null,
      "metadata": {
        "id": "-yCd8qpJBd5E"
      },
      "outputs": [],
      "source": [
        "# A regular expression (or RE) specifies a set of strings that matches it.\n",
        "# The module has functions in this module that let you check if a particular string matches a given regular expression or string.\n",
        "import re\n",
        "\n",
        "# Beautifulsoup is a HTML parser. It is a python package used for parsing both HTML and XML documents.\n",
        "# It creates parse tree for parsed pages that can be used to extract data from HTML documents very easily which can further be used for web scraping.\n",
        "from bs4 import BeautifulSoup\n",
        "\n",
        "# tqdm for printing status bar\n",
        "from tqdm import tqdm"
      ]
    },
    {
      "cell_type": "code",
      "execution_count": null,
      "metadata": {
        "id": "aQd2ix1ZBiiY"
      },
      "outputs": [],
      "source": [
        "# Function returns dialect of the contractions\n",
        "\n",
        "def decontracted(text):\n",
        "  text = re.sub(r\"won't\", 'will not', text)\n",
        "  text = re.sub(r\"can\\'t\", 'can not', text)\n",
        "\n",
        "  text = re.sub(r\"n\\'t\", \"not\", text)\n",
        "  text = re.sub(r\"\\'re\", \"are\", text)\n",
        "  text = re.sub(r\"\\'s\", \"is\", text)\n",
        "  text = re.sub(r\"\\'d\", \"would\", text)\n",
        "  text = re.sub(r\"\\'ll\", \"will\", text)\n",
        "  text = re.sub(r\"\\'t\", \"not\", text)\n",
        "  text = re.sub(r\"\\'ve\", \"have\", text)\n",
        "  text = re.sub(r\"\\'m\", \"am\", text)\n",
        "\n",
        "  return text"
      ]
    },
    {
      "cell_type": "code",
      "execution_count": null,
      "metadata": {
        "id": "4uCVia-DBl2k"
      },
      "outputs": [],
      "source": [
        "# not, no, nor removed from stopwords becausee removing them can change the meaning of sentance(It can convert a negative review to a positive one)\n",
        "\n",
        "stopwords= set(['br', 'the', 'i', 'me', 'my', 'myself', 'we', 'our', 'ours', 'ourselves', 'you', \"you're\", \"you've\",\\\n",
        "            \"you'll\", \"you'd\", 'your', 'yours', 'yourself', 'yourselves', 'he', 'him', 'his', 'himself', \\\n",
        "            'she', \"she's\", 'her', 'hers', 'herself', 'it', \"it's\", 'its', 'itself', 'they', 'them', 'their',\\\n",
        "            'theirs', 'themselves', 'what', 'which', 'who', 'whom', 'this', 'that', \"that'll\", 'these', 'those', \\\n",
        "            'am', 'is', 'are', 'was', 'were', 'be', 'been', 'being', 'have', 'has', 'had', 'having', 'do', 'does', \\\n",
        "            'did', 'doing', 'a', 'an', 'the', 'and', 'but', 'if', 'or', 'because', 'as', 'until', 'while', 'of', \\\n",
        "            'at', 'by', 'for', 'with', 'about', 'against', 'between', 'into', 'through', 'during', 'before', 'after',\\\n",
        "            'above', 'below', 'to', 'from', 'up', 'down', 'in', 'out', 'on', 'off', 'over', 'under', 'again', 'further',\\\n",
        "            'then', 'once', 'here', 'there', 'when', 'where', 'why', 'how', 'all', 'any', 'both', 'each', 'few', 'more',\\\n",
        "            'most', 'other', 'some', 'such', 'only', 'own', 'same', 'so', 'than', 'too', 'very', \\\n",
        "            's', 't', 'can', 'will', 'just', 'don', \"don't\", 'should', \"should've\", 'now', 'd', 'll', 'm', 'o', 're', \\\n",
        "            've', 'y', 'ain', 'aren', \"aren't\", 'couldn', \"couldn't\", 'didn', \"didn't\", 'doesn', \"doesn't\", 'hadn',\\\n",
        "            \"hadn't\", 'hasn', \"hasn't\", 'haven', \"haven't\", 'isn', \"isn't\", 'ma', 'mightn', \"mightn't\", 'mustn',\\\n",
        "            \"mustn't\", 'needn', \"needn't\", 'shan', \"shan't\", 'shouldn', \"shouldn't\", 'wasn', \"wasn't\", 'weren', \"weren't\", \\\n",
        "            'won', \"won't\", 'wouldn', \"wouldn't\"])"
      ]
    },
    {
      "cell_type": "code",
      "execution_count": null,
      "metadata": {
        "colab": {
          "base_uri": "https://localhost:8080/"
        },
        "id": "0onSV98XiR9d",
        "outputId": "d50d9d0c-990c-4954-9e21-6cb34ac9dd11"
      },
      "outputs": [
        {
          "output_type": "stream",
          "name": "stderr",
          "text": [
            "  0%|          | 0/234489 [00:00<?, ?it/s]<ipython-input-136-2aaa80fdaaf6>:6: MarkupResemblesLocatorWarning: The input looks more like a filename than markup. You may want to open this file and pass the filehandle into Beautiful Soup.\n",
            "  sentance = BeautifulSoup(sentance, 'lxml').get_text() # lxml is a python library for processing xml and html documents. get_text gives the text removing all tags\n",
            "100%|██████████| 234489/234489 [02:01<00:00, 1935.31it/s]\n"
          ]
        }
      ],
      "source": [
        "preprocessed_reviews = []\n",
        "\n",
        "for sentance in tqdm(final['Text'].values):                                # .values returns the list containing each row as one element\n",
        "  sentance = re.sub(r\"http\\S+\",\"\",str(sentance))                           # Remove urls\n",
        "  sentance = BeautifulSoup(sentance, 'lxml').get_text()                    # lxml is a python library for processing xml and html documents. get_text gives the text removing all tags\n",
        "  sentance = decontracted(sentance)\n",
        "  sentance = re.sub('\\S*\\d\\S*',\"\", sentance).strip()                       # remove words with numbers \\S means all the [A-Za-z] \\d means [0-9]\n",
        "  sentance = re.sub('[^A-Za-z]+',\" \",sentance)                             # remove all special characters\n",
        "  k = sentance.split()\n",
        "  sentance = ' '.join(e.lower() for e in k if e.lower() not in stopwords)  # .lower() converts the aplhabets to lowercase\n",
        "  preprocessed_reviews.append(sentance.strip())                            # strip() removes the leading and trailing whitespaces"
      ]
    },
    {
      "cell_type": "markdown",
      "metadata": {
        "id": "yj7BJ1hJE0nh"
      },
      "source": [
        "# Featurization\n",
        "\n",
        "Converting word to vector"
      ]
    },
    {
      "cell_type": "markdown",
      "metadata": {
        "id": "-GokxsZXnxHS"
      },
      "source": [
        "Bag of Words(BoW):\n",
        "\n",
        "1.Removing stop words\n",
        "\n",
        "2.Converting text to lower case\n",
        "\n",
        "3.Stemming: converting words to base word\n",
        "\n",
        "4.Lemmatization: Breaking the sentance into words (It is language specific)\n",
        "\n",
        "Disadvantage: It doesn't consider the semantics i.e. meaning of words"
      ]
    },
    {
      "cell_type": "code",
      "execution_count": null,
      "metadata": {
        "colab": {
          "base_uri": "https://localhost:8080/"
        },
        "id": "1gF4gkDBE9An",
        "outputId": "78c72a90-ff52-40b5-faeb-7efcebf41d1f"
      },
      "outputs": [
        {
          "output_type": "stream",
          "name": "stdout",
          "text": [
            "Features extracted: ['aaaaaahhhhhyaaaaaa' 'aaaaaawwwwwwwwww' 'aaaaah' 'aaaaallll' 'aaaaawsome'\n",
            " 'aaaah' 'aaaahhhhhh' 'aaaallll' 'aaaand' 'aaah']\n",
            "Shape of BOW vectorizer: (234489, 96798)\n",
            "Number of unique words: 96798\n"
          ]
        }
      ],
      "source": [
        "from sklearn.feature_extraction.text import CountVectorizer                     # This is to convert our data from text to vector as algorithm works on vectors\n",
        "\n",
        "count_vec = CountVectorizer()                                                   # Create object. This method also known as sparse matrix because most of its elements are 0\n",
        "count_vec.fit(preprocessed_reviews)                                             # fit() learns the vocabulary dictionary from document\n",
        "print(\"Features extracted:\", count_vec.get_feature_names_out()[10:20])\n",
        "\n",
        "vector = count_vec.transform(preprocessed_reviews)                              # transform() transform the vocubulary to matrix\n",
        "print(\"Shape of BOW vectorizer:\", vector.get_shape())\n",
        "# Row = vector for each review\n",
        "# Column = vector containing frequency count of each word\n",
        "print(\"Number of unique words:\", vector.get_shape()[1])"
      ]
    },
    {
      "cell_type": "markdown",
      "metadata": {
        "id": "t6zzLZLDSE-L"
      },
      "source": [
        "Bi-grams and n-gram"
      ]
    },
    {
      "cell_type": "code",
      "execution_count": null,
      "metadata": {
        "colab": {
          "base_uri": "https://localhost:8080/"
        },
        "id": "QPxQxSG4SJgq",
        "outputId": "036c1879-7541-40a8-a795-042cc5761b21"
      },
      "outputs": [
        {
          "output_type": "stream",
          "name": "stdout",
          "text": [
            "Shape of BOW: (234489, 5000)\n",
            "Number of unique words including both unigrams and bigrams: 5000\n"
          ]
        }
      ],
      "source": [
        "# ngram_range=(1,2) create unigram and bigrams both if (2,2) then only consider bigrams\n",
        "# min_df = 10 implies ignore the words having count less than 10\n",
        "# max_features implies out of thousands of words select the first n maximum occuring words\n",
        "\n",
        "count_vec = CountVectorizer(ngram_range=(1,2), min_df = 10, max_features=5000)\n",
        "vector = count_vec.fit_transform(preprocessed_reviews)                          # fit_transform() learns the vocabulary dictionary from document and transform them to matrix\n",
        "\n",
        "print(\"Shape of BOW:\", vector.get_shape())\n",
        "print(\"Number of unique words including both unigrams and bigrams:\", vector.get_shape()[1])"
      ]
    },
    {
      "cell_type": "markdown",
      "metadata": {
        "id": "1pYWVUobcZND"
      },
      "source": [
        "TF-IDF\n",
        "\n",
        "TF high when word frequent in document\n",
        "\n",
        "IDF high when word rare in corpus\n",
        "\n",
        "\n",
        "Doesn't consider symantic meaning\n",
        "\n",
        "Importance given to those words which are rare in corpus"
      ]
    },
    {
      "cell_type": "code",
      "execution_count": null,
      "metadata": {
        "id": "7bo2Gljrc3EK"
      },
      "outputs": [],
      "source": [
        "from sklearn.feature_extraction.text import TfidfVectorizer\n",
        "from sklearn.feature_extraction.text import TfidfTransformer"
      ]
    },
    {
      "cell_type": "code",
      "execution_count": null,
      "metadata": {
        "colab": {
          "base_uri": "https://localhost:8080/"
        },
        "id": "Rsfx7cxYAk3X",
        "outputId": "9d6c0269-0ddb-424f-8a8d-62d6fade094f"
      },
      "outputs": [
        {
          "output_type": "stream",
          "name": "stdout",
          "text": [
            "Features extracted: ['abdomen' 'abdominal' 'abdominal pain' 'abide' 'abilities' 'ability'\n",
            " 'ability buy' 'ability get' 'ability make' 'abit']\n",
            "Shape of BOW: (234489, 141470)\n",
            "Number of unique words including both unigrams and bigrams: 141470\n"
          ]
        }
      ],
      "source": [
        "# ngram_range=(1,2) create unigram and bigrams both if (2,2) then only consider bigrams\n",
        "# min_df = 10 implies ignore the words having count less than 10\n",
        "tf_idf_vec = TfidfVectorizer(ngram_range=(1,2), min_df=10)\n",
        "\n",
        "tf_idf_vec.fit(preprocessed_reviews)                                            # fit() learns the vocabulary dictionary from document\n",
        "print(\"Features extracted:\", tf_idf_vec.get_feature_names_out()[10:20])\n",
        "\n",
        "vector = tf_idf_vec.transform(preprocessed_reviews)                             # transform() transform the vocubulary to matrix\n",
        "print(\"Shape of BOW:\", vector.get_shape())\n",
        "print(\"Number of unique words including both unigrams and bigrams:\", vector.get_shape()[1])"
      ]
    },
    {
      "cell_type": "markdown",
      "metadata": {
        "id": "xGKbiVjob2-z"
      },
      "source": [
        "# Model"
      ]
    },
    {
      "cell_type": "code",
      "execution_count": null,
      "metadata": {
        "id": "FQptIGukB4Wl"
      },
      "outputs": [],
      "source": [
        "from sklearn.model_selection import train_test_split\n",
        "\n",
        "X = preprocessed_reviews\n",
        "Y = final['Score']\n",
        "\n",
        "# Specifying the train size to 0.75 means splitting the data in 75% train data and 25% test data. It can also be done using test_size = 0.25\n",
        "# Specifying the random_state means specifying the seed as row are assigned to train and test set randomly.\n",
        "X_ , X_test, Y_, Y_test = train_test_split(X, Y, test_size=0.3, random_state = 1)\n",
        "\n",
        "# Splitting data in validation dataset and training dataset\n",
        "X_train, X_cross_val, Y_train, Y_cross_val = train_test_split(X_, Y_, test_size=0.3, random_state =1)"
      ]
    },
    {
      "cell_type": "code",
      "execution_count": null,
      "metadata": {
        "id": "J8tGenwGdDtm"
      },
      "outputs": [],
      "source": [
        "count_vect = CountVectorizer()\n",
        "vector_train = count_vect.fit_transform(X_train)\n",
        "vector_cross_val = count_vect.transform(X_cross_val)\n",
        "vector_test = count_vect.transform(X_test)"
      ]
    },
    {
      "cell_type": "code",
      "execution_count": null,
      "metadata": {
        "id": "1rJ2gNQvdsKV",
        "colab": {
          "base_uri": "https://localhost:8080/"
        },
        "outputId": "05e1c555-4284-470f-d32a-f833c13a7679"
      },
      "outputs": [
        {
          "output_type": "stream",
          "name": "stdout",
          "text": [
            "Best k value: 25\n",
            "Maximum area under the curve: 0.6752625675522954\n"
          ]
        }
      ],
      "source": [
        "# finding best value of k\n",
        "\n",
        "from sklearn.neighbors import KNeighborsClassifier\n",
        "\n",
        "# ROC stands for Receiver Operating Characteristic is a probability curve and AUC stands for area under the curve.\n",
        "# It tells how much the model is capable of distinguishing between classes.\n",
        "from sklearn.metrics import roc_auc_score\n",
        "\n",
        "roc_train = []\n",
        "roc_cross_val = []\n",
        "k_value = []\n",
        "max_auc_roc_score = 0\n",
        "k_best = 0\n",
        "\n",
        "for k in range(1,100,4):\n",
        "  # knn support several algorithms which include brute force, kd-tree, ball tree, etc.\n",
        "  # n-neighbors is the number of neighbors to be considered\n",
        "  knn = KNeighborsClassifier(algorithm = \"brute\", metric = \"euclidean\", n_neighbors = k)   # by default metric is minkowski with p = 2 means euclidean\n",
        "\n",
        "  knn.fit(vector_train, Y_train)\n",
        "\n",
        "  pred_cross_val = knn.predict_proba(vector_cross_val)                          # Return probablities of each classification label in the form of nd-array (prob(0), prob(1))\n",
        "                                                                                # that is probability of occurring and not occurring of each label\n",
        "  pred_cross_val = (pred_cross_val)[:,1]                                        # Extracted predicted prob(1)\n",
        "\n",
        "  k_value.append(k)\n",
        "  roc_cross_val.append(roc_auc_score(Y_cross_val, pred_cross_val))\n",
        "\n",
        "  # roc_auc_score is the area under the curve. It uses probability because roc is a probabilty curve\n",
        "  if roc_auc_score(Y_cross_val, pred_cross_val) > max_auc_roc_score:            # Finding k value with maximum area under the curve, more the area more is the accuracy of model\n",
        "    k_best = k\n",
        "    max_auc_roc_score = roc_auc_score(Y_cross_val, pred_cross_val)\n",
        "\n",
        "print(\"Best k value:\", k_best)\n",
        "print(\"Maximum area under the curve:\", max_auc_roc_score)"
      ]
    },
    {
      "cell_type": "code",
      "execution_count": null,
      "metadata": {
        "colab": {
          "base_uri": "https://localhost:8080/",
          "height": 472
        },
        "id": "6YKeDIdzqlLl",
        "outputId": "822307d3-5ebd-4368-e9c9-21579a99c857"
      },
      "outputs": [
        {
          "output_type": "display_data",
          "data": {
            "text/plain": [
              "<Figure size 640x480 with 1 Axes>"
            ],
            "image/png": "[encoded data removed]"
          },
          "metadata": {}
        }
      ],
      "source": [
        "import matplotlib.pyplot as plt\n",
        "\n",
        "plt.plot(k_value, roc_cross_val)\n",
        "plt.title(\"ROC vs K Curve\")                # Note: It is AUC vs K curve\n",
        "plt.xlabel(\"K\")\n",
        "plt.ylabel(\"AUC\")\n",
        "plt.show()"
      ]
    },
    {
      "cell_type": "code",
      "execution_count": null,
      "metadata": {
        "id": "UgwZhXrqPp4D"
      },
      "outputs": [],
      "source": [
        "knn = KNeighborsClassifier(algorithm = \"brute\", metric = \"euclidean\", n_neighbors = k_best)\n",
        "knn.fit(vector_train, Y_train)\n",
        "\n",
        "pred_test = knn.predict_proba(vector_test)\n",
        "pred_test = (pred_test)[:,1]"
      ]
    },
    {
      "cell_type": "code",
      "execution_count": null,
      "metadata": {
        "colab": {
          "base_uri": "https://localhost:8080/",
          "height": 472
        },
        "id": "VA_Rx1f6QjF-",
        "outputId": "a8e5dde7-2d3c-42b4-b7e8-b9818f23e4c0"
      },
      "outputs": [
        {
          "output_type": "display_data",
          "data": {
            "text/plain": [
              "<Figure size 640x480 with 1 Axes>"
            ],
            "image/png": "[encoded data removed]"
          },
          "metadata": {}
        }
      ],
      "source": [
        "# Plotting the roc curve\n",
        "\n",
        "from sklearn import metrics\n",
        "\n",
        "# FPR = False Positive Rate\n",
        "# TPR = True Positive Rate\n",
        "fpr, tpr, threshold = metrics.roc_curve(Y_test, pred_test)\n",
        "\n",
        "plt.plot(fpr, tpr)\n",
        "plt.title(\"ROC on Test data\")\n",
        "plt.xlabel(\"FPR\")\n",
        "plt.ylabel(\"TPR\")\n",
        "plt.show()"
      ]
    },
    {
      "cell_type": "code",
      "execution_count": null,
      "metadata": {
        "colab": {
          "base_uri": "https://localhost:8080/",
          "height": 484
        },
        "id": "8d_ibZRJnged",
        "outputId": "85ddee75-7728-4f6d-efc0-ac72a68d149a"
      },
      "outputs": [
        {
          "output_type": "stream",
          "name": "stdout",
          "text": [
            "Accuracy: 0.858188693192318\n"
          ]
        },
        {
          "output_type": "execute_result",
          "data": {
            "text/plain": [
              "<sklearn.metrics._plot.confusion_matrix.ConfusionMatrixDisplay at 0x7c544afa0190>"
            ]
          },
          "metadata": {},
          "execution_count": 149
        },
        {
          "output_type": "display_data",
          "data": {
            "text/plain": [
              "<Figure size 640x480 with 2 Axes>"
            ],
            "image/png": "[encoded data removed]"
          },
          "metadata": {}
        }
      ],
      "source": [
        "from sklearn.metrics import confusion_matrix, ConfusionMatrixDisplay, accuracy_score\n",
        "\n",
        "y_pred = knn.predict(vector_test)                                               # predict() function predicts the 0 1 label of class\n",
        "print(\"Accuracy:\", accuracy_score(Y_test, y_pred))\n",
        "\n",
        "matrix = confusion_matrix(Y_test, y_pred)                                       # It creates the confusion matrix\n",
        "cf = ConfusionMatrixDisplay(matrix, display_labels = [0, 1])                    # It displays the confusion matrix\n",
        "cf.plot()"
      ]
    },
    {
      "cell_type": "markdown",
      "source": [
        "In the result most of the samples are classified as positive because the data biased. It has more positive points hence, more of points has its nearest neighbor as positive point."
      ],
      "metadata": {
        "id": "CG52bodebUCN"
      }
    },
    {
      "cell_type": "markdown",
      "metadata": {
        "id": "AZ4yXNmjrF3_"
      },
      "source": [
        "# Applying KD tree on tf-idf\n",
        "\n",
        "KDTree is a space partitioning data structure for organizing points in K-Dimensional space. All the partitions are axis parallel. It constructs a tree and it is quite similar to binary search tree."
      ]
    },
    {
      "cell_type": "code",
      "execution_count": null,
      "metadata": {
        "id": "1xGyGSGPp5NC"
      },
      "outputs": [],
      "source": [
        "from sklearn.model_selection import train_test_split\n",
        "from sklearn.feature_extraction.text import TfidfVectorizer\n",
        "from sklearn.feature_extraction.text import TfidfTransformer\n",
        "\n",
        "X = preprocessed_reviews[:30000]\n",
        "Y = final['Score'][:30000]\n",
        "\n",
        "# Specifying the train size to 0.75 means splitting the data in 75% train data and 25% test data. It can also be done using test_size = 0.25\n",
        "# Specifying the random_state means specifying the seed as row are assigned to train and test set randomly.\n",
        "X_ , X_test, Y_, Y_test = train_test_split(X, Y, test_size=0.3, random_state = 1)\n",
        "\n",
        "# Splitting data in validation dataset and training dataset\n",
        "X_train, X_cross_val, Y_train, Y_cross_val = train_test_split(X_, Y_, test_size=0.3, random_state =1)\n",
        "\n",
        "tfidf_vec = TfidfVectorizer(ngram_range = (1,2), min_df = 10)\n",
        "vector_train = tfidf_vec.fit_transform(X_train)\n",
        "vector_cross_val = tfidf_vec.transform(X_cross_val)\n",
        "vector_test = tfidf_vec.transform(X_test)"
      ]
    },
    {
      "cell_type": "code",
      "execution_count": null,
      "metadata": {
        "id": "zYKYnmHT6eTF"
      },
      "outputs": [],
      "source": [
        "# kd-tree doesn't work on sparse matrix(i.e. matrix in which maximum element has value equal to zero)\n",
        "# It works on dense matrix here toarray() function is used to convert it to dense matrix that is even storing the data with zero value\n",
        "vector_train = vector_train.toarray()\n",
        "vector_cross_val = vector_cross_val.toarray()\n",
        "vector_test = vector_test.toarray()"
      ]
    },
    {
      "cell_type": "code",
      "source": [
        "# Finding best value of k\n",
        "\n",
        "from sklearn.neighbors import KNeighborsClassifier\n",
        "\n",
        "# ROC stands for Receiver Operating Characteristic is a probability curve and AUC stands for area under the curve.\n",
        "# It tells how much the model is capable of distinguishing between classes.\n",
        "from sklearn.metrics import roc_auc_score\n",
        "\n",
        "roc_train = []\n",
        "roc_cross_val = []\n",
        "k_value = []\n",
        "max_auc_roc_score = 0\n",
        "k_best = 0\n",
        "\n",
        "for k in tqdm(range(1,100,20)):\n",
        "  knn = KNeighborsClassifier(algorithm = \"kd_tree\", metric = \"euclidean\", n_neighbors = k)            # by default minkowski with p = 2 means euclidean\n",
        "\n",
        "  knn.fit(vector_train, Y_train)\n",
        "\n",
        "  pred_cross_val = knn.predict_proba(vector_cross_val)                          # Return probablities of each classification label in the form of nd-array (prob(0), prob(1))\n",
        "                                                                                #  that is probability of occurring and not occurring of each label\n",
        "  pred_cross_val = (pred_cross_val)[:,1]                                        # Extracted predicted prob(1)\n",
        "\n",
        "  k_value.append(k)\n",
        "  roc_cross_val.append(roc_auc_score(Y_cross_val, pred_cross_val))\n",
        "\n",
        "  # roc_auc_score is the area under the curve. It uses probability because roc is a probabilty curve\n",
        "  if roc_auc_score(Y_cross_val, pred_cross_val) > max_auc_roc_score:            # Finding k value with maximum area under the curve, more the area more is the accuracy of model\n",
        "    k_best = k\n",
        "    max_auc_roc_score = roc_auc_score(Y_cross_val, pred_cross_val)\n",
        "\n",
        "print(\"\\nBest k value:\", k_best)\n",
        "print(\"Maximum area under the curve:\", max_auc_roc_score)"
      ],
      "metadata": {
        "colab": {
          "base_uri": "https://localhost:8080/"
        },
        "id": "OeqRAE0b9ziz",
        "outputId": "f57bdd20-2d8c-4b56-8996-ca6812b48196"
      },
      "execution_count": null,
      "outputs": [
        {
          "output_type": "stream",
          "name": "stderr",
          "text": [
            "100%|██████████| 5/5 [2:27:38<00:00, 1771.61s/it]"
          ]
        },
        {
          "output_type": "stream",
          "name": "stdout",
          "text": [
            "\n",
            "Best k value: 81\n",
            "Maximum area under the curve: 0.8412132316133036\n"
          ]
        },
        {
          "output_type": "stream",
          "name": "stderr",
          "text": [
            "\n"
          ]
        }
      ]
    },
    {
      "cell_type": "code",
      "source": [
        "import matplotlib.pyplot as plt\n",
        "\n",
        "plt.plot(k_value, roc_cross_val)\n",
        "plt.title(\"AUC vs K Curve\")\n",
        "plt.xlabel(\"K\")\n",
        "plt.ylabel(\"AUC\")\n",
        "plt.show()"
      ],
      "metadata": {
        "colab": {
          "base_uri": "https://localhost:8080/",
          "height": 472
        },
        "id": "jCaiq35Z-Rmx",
        "outputId": "25a9b2cd-3924-4ce4-f471-67f2aa691ec7"
      },
      "execution_count": null,
      "outputs": [
        {
          "output_type": "display_data",
          "data": {
            "text/plain": [
              "<Figure size 640x480 with 1 Axes>"
            ],
            "image/png": "[encoded data removed]"
          },
          "metadata": {}
        }
      ]
    },
    {
      "cell_type": "code",
      "source": [
        "# Plotting the roc curve\n",
        "\n",
        "from sklearn import metrics\n",
        "\n",
        "knn = KNeighborsClassifier(algorithm = \"kd_tree\", metric = \"euclidean\", n_neighbors = k_best)\n",
        "knn.fit(vector_train, Y_train)\n",
        "\n",
        "pred_test = knn.predict_proba(vector_test)\n",
        "pred_test = (pred_test)[:,1]\n",
        "\n",
        "# FPR = False Positive Rate\n",
        "# TPR = True Positive Rate\n",
        "fpr, tpr, threshold = metrics.roc_curve(Y_test, pred_test)\n",
        "\n",
        "plt.plot(fpr, tpr)\n",
        "plt.title(\"ROC on Test data\")\n",
        "plt.xlabel(\"FPR\")\n",
        "plt.ylabel(\"TPR\")\n",
        "plt.show()"
      ],
      "metadata": {
        "colab": {
          "base_uri": "https://localhost:8080/",
          "height": 472
        },
        "id": "rNPFICby-Xn3",
        "outputId": "b2dfbb86-6646-46a4-bf1d-61e86c4965a9"
      },
      "execution_count": null,
      "outputs": [
        {
          "output_type": "display_data",
          "data": {
            "text/plain": [
              "<Figure size 640x480 with 1 Axes>"
            ],
            "image/png": "[encoded data removed]"
          },
          "metadata": {}
        }
      ]
    },
    {
      "cell_type": "code",
      "source": [
        "from sklearn.metrics import confusion_matrix, ConfusionMatrixDisplay, accuracy_score\n",
        "\n",
        "y_pred = knn.predict(vector_test)                                               # predict() function predicts the 0 1 label of class\n",
        "print(\"Accuracy:\", accuracy_score(Y_test, y_pred))\n",
        "\n",
        "matrix = confusion_matrix(Y_test, y_pred)                                       # It creates the confusion matrix\n",
        "cf = ConfusionMatrixDisplay(matrix, display_labels = [0, 1])                    # It displays the confusion matrix\n",
        "cf.plot()"
      ],
      "metadata": {
        "colab": {
          "base_uri": "https://localhost:8080/",
          "height": 484
        },
        "id": "x_rS8Qcw-d10",
        "outputId": "ffb4cbbd-a2b5-437d-b9f1-2ea378f2aa1b"
      },
      "execution_count": null,
      "outputs": [
        {
          "output_type": "stream",
          "name": "stdout",
          "text": [
            "Accuracy: 0.8498888888888889\n"
          ]
        },
        {
          "output_type": "execute_result",
          "data": {
            "text/plain": [
              "<sklearn.metrics._plot.confusion_matrix.ConfusionMatrixDisplay at 0x7ce2364cbdf0>"
            ]
          },
          "metadata": {},
          "execution_count": 24
        },
        {
          "output_type": "display_data",
          "data": {
            "text/plain": [
              "<Figure size 640x480 with 2 Axes>"
            ],
            "image/png": "[encoded data removed]"
          },
          "metadata": {}
        }
      ]
    },
    {
      "cell_type": "markdown",
      "source": [
        "In the result most of the samples are classified as positive because the data biased. It has more positive points hence, more of points has its nearest neighbor as positive point. Possible solution is to do sampling and remove bias."
      ],
      "metadata": {
        "id": "7ktYyPbrjuQE"
      }
    }
  ],
  "metadata": {
    "colab": {
      "provenance": []
    },
    "kernelspec": {
      "display_name": "Python 3",
      "name": "python3"
    },
    "language_info": {
      "name": "python"
    }
  },
  "nbformat": 4,
  "nbformat_minor": 0
}
